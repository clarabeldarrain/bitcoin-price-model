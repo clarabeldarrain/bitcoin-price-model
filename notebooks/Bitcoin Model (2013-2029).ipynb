{
 "cells": [
  {
   "cell_type": "markdown",
   "id": "a00302b5-9495-478f-810a-8105c3ad2b39",
   "metadata": {},
   "source": [
    "Data source: https://www.kaggle.com/datasets/mczielinski/bitcoin-historical-data"
   ]
  },
  {
   "cell_type": "markdown",
   "id": "8fc07c84-d571-4be6-b8aa-65ed3668b5ac",
   "metadata": {},
   "source": [
    "## Load data, correct data types and remove year 2012"
   ]
  },
  {
   "cell_type": "markdown",
   "id": "a0d95bdc-f648-4671-8cb9-8faf7ccde77e",
   "metadata": {},
   "source": [
    "The absence of the 2011 bull market in the dataset caused the 2012 bear market to skew the model towards a steeper, more bullish trendline. To correct this, 2012 was excluded from the analysis. Additionally, the correct data type for the 'Timestamp' column was ensured."
   ]
  },
  {
   "cell_type": "code",
   "execution_count": 4,
   "id": "dba9dcc4-3f11-467f-a751-c9ca8abce5c0",
   "metadata": {},
   "outputs": [],
   "source": [
    "import pandas as pd\n",
    "import numpy as np\n",
    "\n",
    "# Load your current CSV\n",
    "df_btcusd = pd.read_csv('btcusd.csv')"
   ]
  },
  {
   "cell_type": "code",
   "execution_count": 5,
   "id": "23571316-22cc-41b6-b168-eb43fe10747f",
   "metadata": {},
   "outputs": [],
   "source": [
    "# Convert the 'Timestamp' column to datetime if it's not already\n",
    "df_btcusd['Timestamp'] = pd.to_datetime(df_btcusd['Timestamp'], unit='s')  # Adjust if needed (e.g., 'ms' or no 'unit')\n",
    "\n",
    "# Filter out all rows where the year is 2012\n",
    "df_pruned = df_btcusd[df_btcusd['Timestamp'].dt.year != 2012].copy()"
   ]
  },
  {
   "cell_type": "code",
   "execution_count": 6,
   "id": "09afa073-2f6d-4443-9332-de3a7bc96e2a",
   "metadata": {},
   "outputs": [
    {
     "name": "stdout",
     "output_type": "stream",
     "text": [
      "                 Timestamp   Open   High    Low  Close    Volume\n",
      "526379 2013-01-01 00:00:00  13.24  13.24  13.24  13.24  4.728852\n",
      "526380 2013-01-01 00:01:00  13.24  13.24  13.24  13.24  0.000000\n",
      "526381 2013-01-01 00:02:00  13.24  13.24  13.24  13.24  0.000000\n",
      "526382 2013-01-01 00:03:00  13.24  13.24  13.24  13.24  0.000000\n",
      "526383 2013-01-01 00:04:00  13.24  13.24  13.24  13.24  0.000000\n",
      "Timestamp    datetime64[ns]\n",
      "Open                float64\n",
      "High                float64\n",
      "Low                 float64\n",
      "Close               float64\n",
      "Volume              float64\n",
      "dtype: object\n"
     ]
    }
   ],
   "source": [
    "# Check the first few rows and data types\n",
    "print(df_pruned.head())\n",
    "print(df_pruned.dtypes)"
   ]
  },
  {
   "cell_type": "code",
   "execution_count": 7,
   "id": "00044c25-daa4-4b2d-8bd0-51fd5e6b4360",
   "metadata": {},
   "outputs": [],
   "source": [
    "# Convert the 'Timestamp' column to datetime if it's a string\n",
    "df_pruned['Timestamp'] = pd.to_datetime(df_pruned['Timestamp'])"
   ]
  },
  {
   "cell_type": "code",
   "execution_count": 8,
   "id": "b2b1db92-5d91-4898-ab35-c9f613110695",
   "metadata": {},
   "outputs": [
    {
     "name": "stdout",
     "output_type": "stream",
     "text": [
      "Rows from 2012: Empty DataFrame\n",
      "Columns: [Timestamp, Open, High, Low, Close, Volume]\n",
      "Index: []\n"
     ]
    }
   ],
   "source": [
    "# Filter out any remaining rows from 2012 (should return an empty DataFrame)\n",
    "df_2012 = df_pruned[df_pruned['Timestamp'].dt.year == 2012]\n",
    "print(\"Rows from 2012:\", df_2012)"
   ]
  },
  {
   "cell_type": "code",
   "execution_count": 9,
   "id": "dc4c956c-cfdc-4486-9086-717fb88005e5",
   "metadata": {},
   "outputs": [
    {
     "name": "stdout",
     "output_type": "stream",
     "text": [
      "Date range of the pruned data:\n",
      "Earliest date: 2013-01-01 00:00:00\n",
      "Latest date: 2024-10-09 00:00:00\n"
     ]
    }
   ],
   "source": [
    "# Print the earliest and latest dates to verify\n",
    "print(\"Date range of the pruned data:\")\n",
    "print(\"Earliest date:\", df_pruned['Timestamp'].min())\n",
    "print(\"Latest date:\", df_pruned['Timestamp'].max())"
   ]
  },
  {
   "cell_type": "code",
   "execution_count": 10,
   "id": "0b39e0a3-7c8e-4758-b6e0-9766ccb90ce8",
   "metadata": {},
   "outputs": [
    {
     "data": {
      "text/plain": [
       "Timestamp    datetime64[ns]\n",
       "Open                float64\n",
       "High                float64\n",
       "Low                 float64\n",
       "Close               float64\n",
       "Volume              float64\n",
       "dtype: object"
      ]
     },
     "execution_count": 10,
     "metadata": {},
     "output_type": "execute_result"
    }
   ],
   "source": [
    "# Check if Timestamp's data type has been updated\n",
    "df_pruned.dtypes"
   ]
  },
  {
   "cell_type": "markdown",
   "id": "7a4fceed-c154-40b3-8212-577c658b9ca6",
   "metadata": {},
   "source": [
    "    "
   ]
  },
  {
   "cell_type": "markdown",
   "id": "ae41a4cd-707f-415c-bfe3-1dcc03b232c0",
   "metadata": {},
   "source": [
    "## Check shape, unique values, null values and duplicates"
   ]
  },
  {
   "cell_type": "code",
   "execution_count": 13,
   "id": "e63c87cb-a362-4d16-a85f-10c672423f4e",
   "metadata": {},
   "outputs": [
    {
     "data": {
      "text/plain": [
       "(6168902, 6)"
      ]
     },
     "execution_count": 13,
     "metadata": {},
     "output_type": "execute_result"
    }
   ],
   "source": [
    "df_pruned.shape"
   ]
  },
  {
   "cell_type": "code",
   "execution_count": 14,
   "id": "aa6dce98-f90e-49e4-8cb3-995753548972",
   "metadata": {},
   "outputs": [
    {
     "name": "stdout",
     "output_type": "stream",
     "text": [
      "Timestamp    6168901\n",
      "Open         1695855\n",
      "High         1660486\n",
      "Low          1671792\n",
      "Close        1687562\n",
      "Volume       4653010\n",
      "dtype: int64\n"
     ]
    }
   ],
   "source": [
    "# Count the number of unique values in each column \n",
    "nunique_values = df_pruned.nunique()\n",
    "print(nunique_values)"
   ]
  },
  {
   "cell_type": "code",
   "execution_count": 15,
   "id": "f9ddaa1d-50eb-4ede-9560-afc21440446c",
   "metadata": {},
   "outputs": [
    {
     "name": "stdout",
     "output_type": "stream",
     "text": [
      "Timestamp    1\n",
      "Open         0\n",
      "High         0\n",
      "Low          0\n",
      "Close        0\n",
      "Volume       0\n",
      "dtype: int64\n"
     ]
    }
   ],
   "source": [
    "# Finding the null values\n",
    "print(df_pruned.isnull().sum())"
   ]
  },
  {
   "cell_type": "code",
   "execution_count": 16,
   "id": "278ef4de-a247-4459-aed7-0c2ffeb6a0a0",
   "metadata": {},
   "outputs": [
    {
     "name": "stdout",
     "output_type": "stream",
     "text": [
      "number of duplicate rows:  (0, 6)\n"
     ]
    }
   ],
   "source": [
    "#Check if there are any duplicated rows\n",
    "duplicate_rows_df_pruned = df_pruned[df_pruned.duplicated()]\n",
    "print (\"number of duplicate rows: \", duplicate_rows_df_pruned.shape)"
   ]
  },
  {
   "cell_type": "markdown",
   "id": "19840a1b-a06a-4bdb-b1ad-cb9f1e180f04",
   "metadata": {},
   "source": [
    "   "
   ]
  },
  {
   "cell_type": "markdown",
   "id": "e90fda98-0a78-4c91-8c02-81d659b7d3bd",
   "metadata": {},
   "source": [
    "## Set date as index"
   ]
  },
  {
   "cell_type": "code",
   "execution_count": 19,
   "id": "f4d5deb3-9785-43f9-958c-2bb9e715aabe",
   "metadata": {},
   "outputs": [],
   "source": [
    "# Convert Timestamp to datetime\n",
    "df_pruned['Date'] = pd.to_datetime(df_pruned['Timestamp'], unit='s')\n",
    "\n",
    "# Set Date as the index (optional, but useful for time-series analysis)\n",
    "df_pruned.set_index('Date', inplace=True)"
   ]
  },
  {
   "cell_type": "code",
   "execution_count": 20,
   "id": "e8d7bfee-7e5b-4af2-ac85-c4c97bab415b",
   "metadata": {},
   "outputs": [
    {
     "data": {
      "text/html": [
       "<div>\n",
       "<style scoped>\n",
       "    .dataframe tbody tr th:only-of-type {\n",
       "        vertical-align: middle;\n",
       "    }\n",
       "\n",
       "    .dataframe tbody tr th {\n",
       "        vertical-align: top;\n",
       "    }\n",
       "\n",
       "    .dataframe thead th {\n",
       "        text-align: right;\n",
       "    }\n",
       "</style>\n",
       "<table border=\"1\" class=\"dataframe\">\n",
       "  <thead>\n",
       "    <tr style=\"text-align: right;\">\n",
       "      <th></th>\n",
       "      <th>Timestamp</th>\n",
       "      <th>Open</th>\n",
       "      <th>High</th>\n",
       "      <th>Low</th>\n",
       "      <th>Close</th>\n",
       "      <th>Volume</th>\n",
       "    </tr>\n",
       "    <tr>\n",
       "      <th>Date</th>\n",
       "      <th></th>\n",
       "      <th></th>\n",
       "      <th></th>\n",
       "      <th></th>\n",
       "      <th></th>\n",
       "      <th></th>\n",
       "    </tr>\n",
       "  </thead>\n",
       "  <tbody>\n",
       "    <tr>\n",
       "      <th>2013-01-01 00:00:00</th>\n",
       "      <td>2013-01-01 00:00:00</td>\n",
       "      <td>13.24</td>\n",
       "      <td>13.24</td>\n",
       "      <td>13.24</td>\n",
       "      <td>13.24</td>\n",
       "      <td>4.728852</td>\n",
       "    </tr>\n",
       "    <tr>\n",
       "      <th>2013-01-01 00:01:00</th>\n",
       "      <td>2013-01-01 00:01:00</td>\n",
       "      <td>13.24</td>\n",
       "      <td>13.24</td>\n",
       "      <td>13.24</td>\n",
       "      <td>13.24</td>\n",
       "      <td>0.000000</td>\n",
       "    </tr>\n",
       "    <tr>\n",
       "      <th>2013-01-01 00:02:00</th>\n",
       "      <td>2013-01-01 00:02:00</td>\n",
       "      <td>13.24</td>\n",
       "      <td>13.24</td>\n",
       "      <td>13.24</td>\n",
       "      <td>13.24</td>\n",
       "      <td>0.000000</td>\n",
       "    </tr>\n",
       "    <tr>\n",
       "      <th>2013-01-01 00:03:00</th>\n",
       "      <td>2013-01-01 00:03:00</td>\n",
       "      <td>13.24</td>\n",
       "      <td>13.24</td>\n",
       "      <td>13.24</td>\n",
       "      <td>13.24</td>\n",
       "      <td>0.000000</td>\n",
       "    </tr>\n",
       "    <tr>\n",
       "      <th>2013-01-01 00:04:00</th>\n",
       "      <td>2013-01-01 00:04:00</td>\n",
       "      <td>13.24</td>\n",
       "      <td>13.24</td>\n",
       "      <td>13.24</td>\n",
       "      <td>13.24</td>\n",
       "      <td>0.000000</td>\n",
       "    </tr>\n",
       "  </tbody>\n",
       "</table>\n",
       "</div>"
      ],
      "text/plain": [
       "                              Timestamp   Open   High    Low  Close    Volume\n",
       "Date                                                                         \n",
       "2013-01-01 00:00:00 2013-01-01 00:00:00  13.24  13.24  13.24  13.24  4.728852\n",
       "2013-01-01 00:01:00 2013-01-01 00:01:00  13.24  13.24  13.24  13.24  0.000000\n",
       "2013-01-01 00:02:00 2013-01-01 00:02:00  13.24  13.24  13.24  13.24  0.000000\n",
       "2013-01-01 00:03:00 2013-01-01 00:03:00  13.24  13.24  13.24  13.24  0.000000\n",
       "2013-01-01 00:04:00 2013-01-01 00:04:00  13.24  13.24  13.24  13.24  0.000000"
      ]
     },
     "execution_count": 20,
     "metadata": {},
     "output_type": "execute_result"
    }
   ],
   "source": [
    "df_pruned.head(5)"
   ]
  },
  {
   "cell_type": "code",
   "execution_count": 21,
   "id": "02ef0329-4649-4924-a776-ba3717db59bd",
   "metadata": {},
   "outputs": [
    {
     "name": "stdout",
     "output_type": "stream",
     "text": [
      "DatetimeIndex(['2013-01-01 00:00:00', '2013-01-01 00:01:00',\n",
      "               '2013-01-01 00:02:00', '2013-01-01 00:03:00',\n",
      "               '2013-01-01 00:04:00', '2013-01-01 00:05:00',\n",
      "               '2013-01-01 00:06:00', '2013-01-01 00:07:00',\n",
      "               '2013-01-01 00:08:00', '2013-01-01 00:09:00',\n",
      "               ...\n",
      "               '2024-10-08 23:52:00', '2024-10-08 23:53:00',\n",
      "               '2024-10-08 23:54:00', '2024-10-08 23:55:00',\n",
      "               '2024-10-08 23:56:00', '2024-10-08 23:57:00',\n",
      "               '2024-10-08 23:58:00', '2024-10-08 23:59:00',\n",
      "               '2024-10-09 00:00:00',                 'NaT'],\n",
      "              dtype='datetime64[ns]', name='Date', length=6168902, freq=None)\n"
     ]
    }
   ],
   "source": [
    "# Check the values of the index (timestamps)\n",
    "print(df_pruned.index)"
   ]
  },
  {
   "cell_type": "markdown",
   "id": "7c14d0e4-c79d-47d9-be10-11f7fba7117b",
   "metadata": {},
   "source": [
    "   "
   ]
  },
  {
   "cell_type": "markdown",
   "id": "488b72fa-dac7-4939-bc44-4ee230fda17b",
   "metadata": {},
   "source": [
    "## Log Transformation for Price and Time"
   ]
  },
  {
   "cell_type": "markdown",
   "id": "cadc4bdd-5732-404e-879f-119ef0a646d3",
   "metadata": {},
   "source": [
    "In this code, the Timestamp and Close columns are transformed using log transformations to improve the analysis of time and price patterns. Timestamp is converted into seconds since the epoch, invalid values are checked, and rows with missing data are removed. This process ensures the dataset is clean and suitable for further analysis and modeling."
   ]
  },
  {
   "cell_type": "code",
   "execution_count": 25,
   "id": "9c11e736-344d-4aae-9eb5-8c1e503c893c",
   "metadata": {},
   "outputs": [
    {
     "name": "stdout",
     "output_type": "stream",
     "text": [
      "Empty DataFrame\n",
      "Columns: [Timestamp, Open, High, Low, Close, Volume, Time_in_seconds]\n",
      "Index: []\n"
     ]
    }
   ],
   "source": [
    "# Convert 'Timestamp' to seconds since the epoch\n",
    "df_pruned['Time_in_seconds'] = (df_pruned['Timestamp'] - pd.Timestamp(\"1970-01-01\")) // pd.Timedelta('1s')\n",
    "\n",
    "# Check for any zero or negative time values before applying the log transformation\n",
    "print(df_pruned[df_pruned['Time_in_seconds'] <= 0])"
   ]
  },
  {
   "cell_type": "code",
   "execution_count": 26,
   "id": "f9c4bed8-fde9-4144-9254-c606fb770188",
   "metadata": {},
   "outputs": [],
   "source": [
    "# Apply log transformation to the 'Time_in_seconds' column (not 'Timestamp')\n",
    "df_pruned['log_time'] = np.log(df_pruned['Time_in_seconds'])"
   ]
  },
  {
   "cell_type": "code",
   "execution_count": 27,
   "id": "96ff1ecb-cfee-4c46-b1d4-c63d962eec23",
   "metadata": {},
   "outputs": [
    {
     "name": "stdout",
     "output_type": "stream",
     "text": [
      "     Timestamp     Open     High      Low    Close    Volume  Time_in_seconds  \\\n",
      "Date                                                                            \n",
      "NaT        NaT  57854.0  57864.0  57835.0  57835.0  1.353466              NaN   \n",
      "\n",
      "      log_time  \n",
      "Date            \n",
      "NaT        NaN  \n"
     ]
    }
   ],
   "source": [
    "# Check for NaN or inf values in 'Log_Time'\n",
    "print(df_pruned[df_pruned['log_time'].isna() | np.isinf(df_pruned['log_time'])])"
   ]
  },
  {
   "cell_type": "code",
   "execution_count": 28,
   "id": "d517edca-1695-4686-b5eb-3e6638999e76",
   "metadata": {},
   "outputs": [],
   "source": [
    "# Drop rows where 'Log_Time' is NaN\n",
    "df_pruned = df_pruned.dropna(subset=['log_time'])\n",
    "df_pruned = df_pruned.dropna(subset=['Timestamp'])"
   ]
  },
  {
   "cell_type": "code",
   "execution_count": 29,
   "id": "992a9e55-0846-4a86-bb2b-56c5c370f561",
   "metadata": {},
   "outputs": [],
   "source": [
    "# Apply log transformation to the 'Close' column\n",
    "df_pruned['log_price'] = np.log(df_pruned['Close'])"
   ]
  },
  {
   "cell_type": "code",
   "execution_count": 30,
   "id": "1992f628-976f-4109-9512-0b13a420309c",
   "metadata": {},
   "outputs": [
    {
     "data": {
      "text/html": [
       "<div>\n",
       "<style scoped>\n",
       "    .dataframe tbody tr th:only-of-type {\n",
       "        vertical-align: middle;\n",
       "    }\n",
       "\n",
       "    .dataframe tbody tr th {\n",
       "        vertical-align: top;\n",
       "    }\n",
       "\n",
       "    .dataframe thead th {\n",
       "        text-align: right;\n",
       "    }\n",
       "</style>\n",
       "<table border=\"1\" class=\"dataframe\">\n",
       "  <thead>\n",
       "    <tr style=\"text-align: right;\">\n",
       "      <th></th>\n",
       "      <th>Timestamp</th>\n",
       "      <th>Open</th>\n",
       "      <th>High</th>\n",
       "      <th>Low</th>\n",
       "      <th>Close</th>\n",
       "      <th>Volume</th>\n",
       "      <th>Time_in_seconds</th>\n",
       "      <th>log_time</th>\n",
       "      <th>log_price</th>\n",
       "    </tr>\n",
       "    <tr>\n",
       "      <th>Date</th>\n",
       "      <th></th>\n",
       "      <th></th>\n",
       "      <th></th>\n",
       "      <th></th>\n",
       "      <th></th>\n",
       "      <th></th>\n",
       "      <th></th>\n",
       "      <th></th>\n",
       "      <th></th>\n",
       "    </tr>\n",
       "  </thead>\n",
       "  <tbody>\n",
       "    <tr>\n",
       "      <th>2013-01-01 00:00:00</th>\n",
       "      <td>2013-01-01 00:00:00</td>\n",
       "      <td>13.24</td>\n",
       "      <td>13.24</td>\n",
       "      <td>13.24</td>\n",
       "      <td>13.24</td>\n",
       "      <td>4.728852</td>\n",
       "      <td>1.356998e+09</td>\n",
       "      <td>21.028541</td>\n",
       "      <td>2.583243</td>\n",
       "    </tr>\n",
       "    <tr>\n",
       "      <th>2013-01-01 00:01:00</th>\n",
       "      <td>2013-01-01 00:01:00</td>\n",
       "      <td>13.24</td>\n",
       "      <td>13.24</td>\n",
       "      <td>13.24</td>\n",
       "      <td>13.24</td>\n",
       "      <td>0.000000</td>\n",
       "      <td>1.356998e+09</td>\n",
       "      <td>21.028541</td>\n",
       "      <td>2.583243</td>\n",
       "    </tr>\n",
       "    <tr>\n",
       "      <th>2013-01-01 00:02:00</th>\n",
       "      <td>2013-01-01 00:02:00</td>\n",
       "      <td>13.24</td>\n",
       "      <td>13.24</td>\n",
       "      <td>13.24</td>\n",
       "      <td>13.24</td>\n",
       "      <td>0.000000</td>\n",
       "      <td>1.356999e+09</td>\n",
       "      <td>21.028541</td>\n",
       "      <td>2.583243</td>\n",
       "    </tr>\n",
       "    <tr>\n",
       "      <th>2013-01-01 00:03:00</th>\n",
       "      <td>2013-01-01 00:03:00</td>\n",
       "      <td>13.24</td>\n",
       "      <td>13.24</td>\n",
       "      <td>13.24</td>\n",
       "      <td>13.24</td>\n",
       "      <td>0.000000</td>\n",
       "      <td>1.356999e+09</td>\n",
       "      <td>21.028541</td>\n",
       "      <td>2.583243</td>\n",
       "    </tr>\n",
       "    <tr>\n",
       "      <th>2013-01-01 00:04:00</th>\n",
       "      <td>2013-01-01 00:04:00</td>\n",
       "      <td>13.24</td>\n",
       "      <td>13.24</td>\n",
       "      <td>13.24</td>\n",
       "      <td>13.24</td>\n",
       "      <td>0.000000</td>\n",
       "      <td>1.356999e+09</td>\n",
       "      <td>21.028541</td>\n",
       "      <td>2.583243</td>\n",
       "    </tr>\n",
       "  </tbody>\n",
       "</table>\n",
       "</div>"
      ],
      "text/plain": [
       "                              Timestamp   Open   High    Low  Close    Volume  \\\n",
       "Date                                                                            \n",
       "2013-01-01 00:00:00 2013-01-01 00:00:00  13.24  13.24  13.24  13.24  4.728852   \n",
       "2013-01-01 00:01:00 2013-01-01 00:01:00  13.24  13.24  13.24  13.24  0.000000   \n",
       "2013-01-01 00:02:00 2013-01-01 00:02:00  13.24  13.24  13.24  13.24  0.000000   \n",
       "2013-01-01 00:03:00 2013-01-01 00:03:00  13.24  13.24  13.24  13.24  0.000000   \n",
       "2013-01-01 00:04:00 2013-01-01 00:04:00  13.24  13.24  13.24  13.24  0.000000   \n",
       "\n",
       "                     Time_in_seconds   log_time  log_price  \n",
       "Date                                                        \n",
       "2013-01-01 00:00:00     1.356998e+09  21.028541   2.583243  \n",
       "2013-01-01 00:01:00     1.356998e+09  21.028541   2.583243  \n",
       "2013-01-01 00:02:00     1.356999e+09  21.028541   2.583243  \n",
       "2013-01-01 00:03:00     1.356999e+09  21.028541   2.583243  \n",
       "2013-01-01 00:04:00     1.356999e+09  21.028541   2.583243  "
      ]
     },
     "execution_count": 30,
     "metadata": {},
     "output_type": "execute_result"
    }
   ],
   "source": [
    "df_pruned.head(5)"
   ]
  },
  {
   "cell_type": "code",
   "execution_count": 31,
   "id": "9c162857-fc8e-4e2c-b477-f385b085ceae",
   "metadata": {},
   "outputs": [
    {
     "data": {
      "text/plain": [
       "array([ 2.58324255,  2.58021683,  2.57945897, ..., 10.92642397,\n",
       "       10.93144487, 10.99912877])"
      ]
     },
     "execution_count": 31,
     "metadata": {},
     "output_type": "execute_result"
    }
   ],
   "source": [
    "df_pruned['log_price'].unique()"
   ]
  },
  {
   "cell_type": "code",
   "execution_count": 32,
   "id": "29d280f7-e52d-4893-9257-fccd504aa76a",
   "metadata": {},
   "outputs": [
    {
     "data": {
      "text/plain": [
       "array([21.02854104, 21.02854108, 21.02854113, ..., 21.27048041,\n",
       "       21.27048044, 21.27048048])"
      ]
     },
     "execution_count": 32,
     "metadata": {},
     "output_type": "execute_result"
    }
   ],
   "source": [
    "df_pruned['log_time'].unique()"
   ]
  },
  {
   "cell_type": "markdown",
   "id": "9bc19ad2-4960-42c0-896a-56cfb39ca0ec",
   "metadata": {},
   "source": [
    "   "
   ]
  },
  {
   "cell_type": "markdown",
   "id": "1faf384b-64e3-48f8-b675-defd69cc2d9a",
   "metadata": {},
   "source": [
    "## Linear Regression Model"
   ]
  },
  {
   "cell_type": "markdown",
   "id": "74ac8ad0-e3cb-4c79-8717-486540d789e3",
   "metadata": {},
   "source": [
    "In this section, a linear regression model is fitted to the log-transformed log_time (time) and log_price (price) data. The slope and intercept of the fitted regression line are extracted, which describe the relationship between time and price on a log-log scale. Finally, the fitted line is generated for plotting based on the calculated slope and intercept, allowing for visualization of the trend in the data."
   ]
  },
  {
   "cell_type": "code",
   "execution_count": 36,
   "id": "8d4afc32-b419-41ab-99f2-3a58831ded5c",
   "metadata": {},
   "outputs": [
    {
     "name": "stdout",
     "output_type": "stream",
     "text": [
      "Slope: 28.49305670497171, Intercept: -594.4856190776728\n"
     ]
    }
   ],
   "source": [
    "from sklearn.linear_model import LinearRegression\n",
    "\n",
    "# Prepare the features (log of time) and target (log of price)\n",
    "X = df_pruned['log_time'].values.reshape(-1, 1)\n",
    "y = df_pruned['log_price'].values\n",
    "\n",
    "# Fit the linear regression to the log-log transformed data \n",
    "model = LinearRegression()\n",
    "model.fit(X, y)\n",
    "\n",
    "# Extract the slope and intercept for the line\n",
    "slope = model.coef_[0]\n",
    "intercept = model.intercept_\n",
    "print(f\"Slope: {slope}, Intercept: {intercept}\")\n",
    "\n",
    "# Generate the line for plotting\n",
    "df_pruned['fitted_log_price'] = slope * df_pruned['log_time'] + intercept"
   ]
  },
  {
   "cell_type": "code",
   "execution_count": 37,
   "id": "2a91cb41-ef11-45b7-99b8-7151047e04a9",
   "metadata": {},
   "outputs": [
    {
     "name": "stdout",
     "output_type": "stream",
     "text": [
      "                            OLS Regression Results                            \n",
      "==============================================================================\n",
      "Dep. Variable:              log_price   R-squared:                       0.891\n",
      "Model:                            OLS   Adj. R-squared:                  0.891\n",
      "Method:                 Least Squares   F-statistic:                 5.034e+07\n",
      "Date:                Sun, 13 Oct 2024   Prob (F-statistic):               0.00\n",
      "Time:                        12:17:27   Log-Likelihood:            -6.4957e+06\n",
      "No. Observations:             6168901   AIC:                         1.299e+07\n",
      "Df Residuals:                 6168899   BIC:                         1.299e+07\n",
      "Df Model:                           1                                         \n",
      "Covariance Type:            nonrobust                                         \n",
      "==============================================================================\n",
      "                 coef    std err          t      P>|t|      [0.025      0.975]\n",
      "------------------------------------------------------------------------------\n",
      "const       -594.4856      0.085  -6998.036      0.000    -594.652    -594.319\n",
      "log_time      28.4931      0.004   7095.264      0.000      28.485      28.501\n",
      "==============================================================================\n",
      "Omnibus:                   147909.620   Durbin-Watson:                   0.000\n",
      "Prob(Omnibus):                  0.000   Jarque-Bera (JB):           143357.720\n",
      "Skew:                           0.339   Prob(JB):                         0.00\n",
      "Kurtosis:                       2.686   Cond. No.                     6.45e+03\n",
      "==============================================================================\n",
      "\n",
      "Notes:\n",
      "[1] Standard Errors assume that the covariance matrix of the errors is correctly specified.\n",
      "[2] The condition number is large, 6.45e+03. This might indicate that there are\n",
      "strong multicollinearity or other numerical problems.\n"
     ]
    }
   ],
   "source": [
    "import statsmodels.api as sm\n",
    "\n",
    "# Add a constant to the independent variable (intercept)\n",
    "X = sm.add_constant(df_pruned['log_time'])\n",
    "\n",
    "# Fit the linear regression model using statsmodels\n",
    "model = sm.OLS(df_pruned['log_price'], X).fit()\n",
    "\n",
    "# Display the summary of the model\n",
    "print(model.summary())"
   ]
  },
  {
   "cell_type": "markdown",
   "id": "0811ee4b-a39c-4433-b55d-0c7ea5b9576c",
   "metadata": {},
   "source": [
    "   "
   ]
  },
  {
   "cell_type": "markdown",
   "id": "e8d2b090-7b12-4e20-95dd-0da608142de5",
   "metadata": {},
   "source": [
    "## Linear Regression Visualisation"
   ]
  },
  {
   "cell_type": "code",
   "execution_count": 41,
   "id": "45d78c8b-d746-475a-a787-5a6970874cf5",
   "metadata": {},
   "outputs": [
    {
     "data": {
      "image/png": "[encoded data removed]",
      "text/plain": [
       "<Figure size 640x480 with 1 Axes>"
      ]
     },
     "metadata": {},
     "output_type": "display_data"
    }
   ],
   "source": [
    "import matplotlib.pyplot as plt\n",
    "\n",
    "# Plot the original data\n",
    "plt.scatter(df_pruned['log_time'], df_pruned['log_price'], color='blue', label='Log-Transformed Data', s=1)\n",
    "\n",
    "# Plot the fitted power law line\n",
    "plt.plot(df_pruned['log_time'], model.predict(X), color='red', label=f'Model Fit: y = {slope:.2f}x + {intercept:.2f}')\n",
    "\n",
    "# Label the axes\n",
    "plt.xlabel('log(time)')\n",
    "plt.ylabel('log(price)')\n",
    "\n",
    "# Add title and legend\n",
    "plt.title('Fit of Time vs Price (Log-Log Scale)')\n",
    "plt.legend()\n",
    "\n",
    "# Show the plot\n",
    "plt.show()\n"
   ]
  },
  {
   "cell_type": "markdown",
   "id": "ead93f47-cbb4-4842-9ac2-9eb5f61cf53c",
   "metadata": {},
   "source": [
    "This graph shows the log-log relationship between time (x-axis) and price (y-axis) for Bitcoin, with both axes plotted on a logarithmic scale.\n",
    "\n",
    "- The blue dots represent the actual log-transformed data points for time (log(time)) and price (log(price)).\n",
    "- The red line represents the fitted linear model, with the equation y = 28.49x - 594.49. This linear fit on the log-log scale suggests that the original relationship between time and price follows a power law (since a straight line in log-log space indicates a power law relationship in the original scale).\n",
    "\n",
    "In summary, the graph demonstrates the fitted trend of Bitcoin price over time using a log-log scale, with the fitted red line indicating the general trend of price growth over time, while the actual data points fluctuate around this trend. The equation gives the slope and intercept of the fitted line, showing how price increases over time on a log scale."
   ]
  },
  {
   "cell_type": "markdown",
   "id": "d5a80ec1-3b38-4aa6-850b-ef3702fce71d",
   "metadata": {},
   "source": [
    "   "
   ]
  },
  {
   "cell_type": "markdown",
   "id": "ef156eae-fa86-4c4b-8bc1-de966e947227",
   "metadata": {},
   "source": [
    "## Plot Support and Resistance Trendlines, Project Future Trendlines "
   ]
  },
  {
   "cell_type": "markdown",
   "id": "1453ef11-e268-49b6-9a25-0ac804428c89",
   "metadata": {},
   "source": [
    "This section of code calculates and plots the support and resistance trendlines for Bitcoin prices by shifting the intercept of the fitted linear model. It also projects future price trends by extending the time axis and applying the same slope used in the past, allowing for the prediction of future support and resistance levels. The code uses the last known points of support and resistance, extrapolating these trends into the future for forecasting."
   ]
  },
  {
   "cell_type": "code",
   "execution_count": 46,
   "id": "14e683bc-0407-4a42-aada-64da038f39a6",
   "metadata": {},
   "outputs": [],
   "source": [
    "# Add support and resistance trendlines (shift the intercept)\n",
    "df_pruned['support'] = slope * df_pruned['log_time'] + (intercept - 1.2)  # Shift downward for support\n",
    "df_pruned['resistance'] = slope * df_pruned['log_time'] + (intercept + 1.8)  # Shift upward for resistance"
   ]
  },
  {
   "cell_type": "code",
   "execution_count": 47,
   "id": "dac56f12-6617-457b-b3ae-f9defaeb6d1e",
   "metadata": {},
   "outputs": [],
   "source": [
    "import numpy as np\n",
    "import matplotlib.pyplot as plt\n",
    "\n",
    "# Calculate the price range for shifting support and resistance\n",
    "price_range = df_pruned['log_price'].max() - df_pruned['log_price'].min()\n",
    "\n",
    "# Define how far into the future you want to extend (reduce the time extension)\n",
    "future_time_extension = 0.1  # Adjust this as needed for how far into the future you want to predict\n",
    "\n",
    "# Get the current maximum log_time value\n",
    "current_max_log_time = df_pruned['log_time'].max()\n",
    "\n",
    "# Create new future time values (extrapolate into the future)\n",
    "future_log_time = np.linspace(current_max_log_time, current_max_log_time + future_time_extension, 100)\n",
    "\n",
    "# Predict future prices using the power law fit\n",
    "future_log_price = slope * future_log_time + intercept\n",
    "\n",
    "# Align future support and resistance with the current lines\n",
    "last_support = df_pruned['support'].iloc[-1]  # Get the last value of the current support\n",
    "last_resistance = df_pruned['resistance'].iloc[-1]  # Get the last value of the current resistance\n",
    "support_slope = slope  # Keep the same slope for support and resistance\n",
    "\n",
    "# Project future support and resistance lines based on the last known points\n",
    "future_support = support_slope * future_log_time + (last_support - support_slope * current_max_log_time)\n",
    "future_resistance = support_slope * future_log_time + (last_resistance - support_slope * current_max_log_time)"
   ]
  },
  {
   "cell_type": "markdown",
   "id": "67006841-516c-4261-9ce9-451ddfcf87d0",
   "metadata": {},
   "source": [
    "    "
   ]
  },
  {
   "cell_type": "markdown",
   "id": "744095d9-d65d-4516-98bd-e6ae5f251f77",
   "metadata": {},
   "source": [
    "## Plot Log-Transformed Bitcoin Price Model with Trend Lines and Future Predictions"
   ]
  },
  {
   "cell_type": "code",
   "execution_count": 57,
   "id": "c6df6bd2-619b-4292-aedf-3288d2cdd723",
   "metadata": {},
   "outputs": [
    {
     "data": {
      "image/png": "[encoded data removed]",
      "text/plain": [
       "<Figure size 1400x600 with 1 Axes>"
      ]
     },
     "metadata": {},
     "output_type": "display_data"
    }
   ],
   "source": [
    "import numpy as np\n",
    "import matplotlib.pyplot as plt\n",
    "import matplotlib.ticker as ticker\n",
    "import pandas as pd\n",
    "\n",
    "# Function to convert log_time back to actual years\n",
    "def log_time_to_year(x):\n",
    "    # Exponentiate to get back to original time scale (assumes 'Time_in_seconds' exists)\n",
    "    seconds_since_epoch = np.exp(x)\n",
    "    return pd.to_datetime(seconds_since_epoch, unit='s').year\n",
    "\n",
    "# Function to convert log_price back to actual price\n",
    "def log_price_to_price(log_price):\n",
    "    # Exponentiate to convert back to actual price\n",
    "    return np.exp(log_price)\n",
    "\n",
    "# Define the actual years you want as ticks (consistent 1-year increments)\n",
    "years = np.arange(2013, 2030, 1)  # From 2013 to 2029, with 1-year increments\n",
    "\n",
    "# Convert these years to log_time for tick locations\n",
    "log_time_ticks = np.log(pd.to_datetime(years, format='%Y').astype('int64') // 10**9)\n",
    "\n",
    "# Make the graph wider\n",
    "plt.figure(figsize=(14, 6))  # Adjust the figsize to make it wider\n",
    "\n",
    "# Plot the original data\n",
    "plt.style.use('dark_background')\n",
    "plt.plot(df_pruned['log_time'], df_pruned['log_price'], label='Log-Transformed Data', color='yellow')\n",
    "\n",
    "# Plot the power law fit for existing data\n",
    "plt.plot(df_pruned['log_time'], df_pruned['fitted_log_price'], label=f'Power Law Fit: y = {slope:.2f}x + {intercept:.2f}', color='red')\n",
    "\n",
    "# Plot support and resistance for existing data\n",
    "plt.plot(df_pruned['log_time'], df_pruned['support'], label='Support', color='green', linestyle='--')\n",
    "plt.plot(df_pruned['log_time'], df_pruned['resistance'], label='Resistance', color='cyan', linestyle='--')\n",
    "\n",
    "# Plot future predicted power law fit\n",
    "plt.plot(future_log_time, future_log_price, label='Future Model Fit', color='red', linestyle='--')\n",
    "\n",
    "# Plot future support and resistance lines aligned with existing lines\n",
    "plt.plot(future_log_time, future_support, label='Future Support', color='green', linestyle=':')\n",
    "plt.plot(future_log_time, future_resistance, label='Future Resistance', color='cyan', linestyle=':')\n",
    "\n",
    "# Set the x-axis ticks to start of each year (with consistent 1-year increments)\n",
    "ax = plt.gca()  # Get the current axis\n",
    "ax.set_xticks(log_time_ticks)  # Set the ticks to the start of each year\n",
    "\n",
    "# Set the x-axis formatter to show actual years\n",
    "ax.xaxis.set_major_formatter(ticker.FuncFormatter(lambda x, _: int(log_time_to_year(x))))\n",
    "\n",
    "# Set x-axis limits to remove empty space (adjust the lower limit as needed)\n",
    "lower_limit = np.log((pd.Timestamp('2013-01-01').timestamp()))\n",
    "ax.set_xlim([lower_limit, future_log_time[-1]])\n",
    "\n",
    "### Custom ticks and labels for actual prices ###\n",
    "# Define specific log price values you want as ticks (logarithmic scale)\n",
    "log_price_ticks = np.log([10, 100, 1000, 10000, 100000, 1000000, 10000000])\n",
    "price_labels = ['$10', '$100', '$1K', '$10K', '$100K', '$1M', '$10M']\n",
    "\n",
    "# Apply the custom ticks and labels for years (x-axis)\n",
    "plt.xticks(log_time_ticks, years)\n",
    "\n",
    "# Apply the custom ticks and labels for price (y-axis) using actual price values\n",
    "plt.yticks(log_price_ticks, price_labels)\n",
    "\n",
    "# Add labels and title\n",
    "plt.title('Log-Transformed Bitcoin Price with Trend Lines and Future Predictions (2013-2029)')\n",
    "plt.xlabel('Year')  # Label the x-axis as 'Year'\n",
    "plt.ylabel('Price (USD)')  # Label the y-axis as 'Price (USD)'\n",
    "plt.grid(True, which=\"both\", ls=\"--\", linewidth=0.5, color='gray')\n",
    "plt.legend(facecolor='black', framealpha=1, edgecolor='white')\n",
    "\n",
    "# Show the plot\n",
    "plt.show()"
   ]
  },
  {
   "cell_type": "markdown",
   "id": "fb8e186a-a02c-47fc-9e43-003208d05866",
   "metadata": {},
   "source": [
    "This graph displays the **log-transformed Bitcoin price in USD** over time (on a log-log scale), along with key trendlines for **support**, **resistance**, and **future price projections**."
   ]
  },
  {
   "cell_type": "markdown",
   "id": "7d5d6b3d-18ab-441e-8904-bb56b2585648",
   "metadata": {},
   "source": [
    "**Key Elements:**\n",
    "\n",
    "1. **Yellow Line (Log-Transformed Data)**: Represents the actual log-transformed historical Bitcoin prices from 2013 to the present.\n",
    "2. **Red Line (Power Law Fit)**: A power law regression line fit to the log-transformed price data, which captures the overall trend of Bitcoin's price over time. The equation y=28.49x−594.49 describes the fitted line, indicating the relationship between time (log-transformed) and price (log-transformed).\n",
    "    \n",
    "    y=28.49x−594.49y = 28.49x - 594.49\n",
    "    \n",
    "3. **Green Dashed Line (Support)**: This represents the **support trendline**, indicating the lower boundary where Bitcoin prices have tended to stabilize during declines.\n",
    "4. **Cyan Dashed Line (Resistance)**: The **resistance trendline** indicates the upper boundary, where prices have historically encountered resistance and failed to rise beyond this point.\n",
    "5. **Red Dashed Line (Future Model Fit)**: This projects the Bitcoin price trend into the future based on the power law regression, showing the expected future trajectory if the current trend continues.\n",
    "6. **Green Dotted Line (Future Support)** and **Cyan Dotted Line (Future Resistance)**: These are the projected future support and resistance lines, extrapolating the trendlines based on past data to predict potential future boundaries for price movements.\n",
    "\n",
    "This graph shows the historical and predicted future trends for Bitcoin prices, highlighting the significant role of support and resistance levels in determining price behavior. The log-log scale is used to better capture exponential growth over time, and the future projections indicate possible paths Bitcoin prices might follow up to 2029, assuming the past trends hold."
   ]
  },
  {
   "cell_type": "code",
   "execution_count": null,
   "id": "ad2a53c8-dcb1-4656-9a4b-108dcdefdbcf",
   "metadata": {},
   "outputs": [],
   "source": []
  }
 ],
 "metadata": {
  "kernelspec": {
   "display_name": "Python 3 (ipykernel)",
   "language": "python",
   "name": "python3"
  },
  "language_info": {
   "codemirror_mode": {
    "name": "ipython",
    "version": 3
   },
   "file_extension": ".py",
   "mimetype": "text/x-python",
   "name": "python",
   "nbconvert_exporter": "python",
   "pygments_lexer": "ipython3",
   "version": "3.12.4"
  }
 },
 "nbformat": 4,
 "nbformat_minor": 5
}
